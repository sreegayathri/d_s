{
 "cells": [
  {
   "cell_type": "code",
   "execution_count": 12,
   "metadata": {},
   "outputs": [
    {
     "name": "stdout",
     "output_type": "stream",
     "text": [
      "5\n"
     ]
    },
    {
     "data": {
      "text/plain": [
       "{1: 1, 2: 4, 3: 9, 4: 16, 5: 25}"
      ]
     },
     "execution_count": 12,
     "metadata": {},
     "output_type": "execute_result"
    }
   ],
   "source": [
    "# def sqaure_dict(x):\n",
    "#     key_sq = {}\n",
    "#     for i in range(x):\n",
    "#         key_sq[i] = i**2\n",
    "#     return key_sq\n",
    "# num = 25\n",
    "# sqaure_dict(num)\n",
    "\n",
    "def square_dict(num):\n",
    "    dict_1 = {i:i**2 for i in range(num+1) if i > 0}\n",
    "    return dict_1\n",
    "x = int(input())\n",
    "square_dict(x)\n"
   ]
  },
  {
   "cell_type": "code",
   "execution_count": 1,
   "metadata": {},
   "outputs": [
    {
     "name": "stdout",
     "output_type": "stream",
     "text": [
      "sree\n",
      "eers\n"
     ]
    }
   ],
   "source": [
    "def reverse(ss):\n",
    "    ll = ss[::-1]\n",
    "    print(ll)\n",
    "ss = input()\n",
    "reverse(ss)"
   ]
  },
  {
   "cell_type": "code",
   "execution_count": null,
   "metadata": {},
   "outputs": [],
   "source": []
  }
 ],
 "metadata": {
  "kernelspec": {
   "display_name": "Python 3",
   "language": "python",
   "name": "python3"
  },
  "language_info": {
   "codemirror_mode": {
    "name": "ipython",
    "version": 3
   },
   "file_extension": ".py",
   "mimetype": "text/x-python",
   "name": "python",
   "nbconvert_exporter": "python",
   "pygments_lexer": "ipython3",
   "version": "3.7.4"
  }
 },
 "nbformat": 4,
 "nbformat_minor": 2
}
